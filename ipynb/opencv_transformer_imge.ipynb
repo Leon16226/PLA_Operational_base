{
 "cells": [
  {
   "cell_type": "markdown",
   "metadata": {
    "collapsed": true,
    "pycharm": {
     "name": "#%% md\n"
    }
   },
   "source": [
    "# 图片缩放"
   ]
  },
  {
   "cell_type": "code",
   "execution_count": null,
   "metadata": {
    "pycharm": {
     "name": "#%%\n"
    }
   },
   "outputs": [],
   "source": [
    "import cv2\n",
    "img=cv2.imread('01.jpeg', 1)\n",
    "imge_info=img.shape\n",
    "print(imge_info)\n",
    "image_height=imge_info[0]\n",
    "image_weight=imge_info[1]\n",
    "image_mode=imge_info[2]\n",
    "\n",
    "dstHeight=int(0.5*image_height)\n",
    "dstWeight=int(0.5*image_weight)\n",
    "dst=cv2.resize(img,(dstHeight,dstWeight))\n",
    "cv2.imshow('image_dst', dst)\n",
    "cv2.waitKey(0)"
   ]
  },
  {
   "cell_type": "markdown",
   "source": [
    "# 图片剪切"
   ],
   "metadata": {
    "collapsed": false
   }
  },
  {
   "cell_type": "code",
   "execution_count": null,
   "outputs": [],
   "source": [
    "import cv2\n",
    "import numpy as np\n",
    "img=cv2.imread('E:/python_cv/01.jpg',1)\n",
    "img_info=img.shape\n",
    "dst=img[100:200,100:300]\n",
    "cv2.imshow('image_dst',dst)\n",
    "cv2.waitKey(0)"
   ],
   "metadata": {
    "collapsed": false,
    "pycharm": {
     "name": "#%%\n"
    }
   }
  },
  {
   "cell_type": "markdown",
   "source": [
    "# 图片仿射变换"
   ],
   "metadata": {
    "collapsed": false
   }
  },
  {
   "cell_type": "code",
   "execution_count": null,
   "outputs": [],
   "source": [
    "import cv2\n",
    "import numpy as np\n",
    "img=cv2.imread('E:/python_cv/01.jpg',1)\n",
    "img_info=img.shape\n",
    "image_height=img_info[0]\n",
    "image_weight=img_info[1]\n",
    "#src3-->dst3(左上角，左下角，右上角）\n",
    "mat_src=np.float32([[0,0],[0,image_height-1],[image_weight-1,0]])\n",
    "mat_dst=np.float32([[50,50],[300,image_height-200],[image_weight-300,100]])\n",
    "mat_Affine=cv2.getAffineTransform(mat_src,mat_dst)\n",
    "dst=cv2.warpAffine(img,mat_Affine,(image_height,image_weight))\n",
    "cv2.imshow('image_dst',dst)\n",
    "cv2.waitKey(0)"
   ],
   "metadata": {
    "collapsed": false,
    "pycharm": {
     "name": "#%%\n"
    }
   }
  },
  {
   "cell_type": "code",
   "execution_count": null,
   "outputs": [],
   "source": [],
   "metadata": {
    "collapsed": false,
    "pycharm": {
     "name": "#%%\n"
    }
   }
  },
  {
   "cell_type": "markdown",
   "metadata": {},
   "source": []
  },
  {
   "cell_type": "code",
   "execution_count": null,
   "metadata": {},
   "outputs": [],
   "source": [
    "import cv2\n",
    "import numpy as np\n",
    "img=cv2.imread('E:/python_cv/01.jpg',1)\n",
    "img_info=img.shape\n",
    "dst=img[100:200,100:300]\n",
    "cv2.imshow('image_dst',dst)\n",
    "cv2.waitKey(0)"
   ]
  },
  {
   "cell_type": "markdown",
   "metadata": {},
   "source": [
    "# 图片仿射变换"
   ]
  },
  {
   "cell_type": "code",
   "execution_count": null,
   "metadata": {},
   "outputs": [],
   "source": [
    "import cv2\n",
    "import numpy as np\n",
    "img=cv2.imread('E:/python_cv/01.jpg',1)\n",
    "img_info=img.shape\n",
    "image_height=img_info[0]\n",
    "image_weight=img_info[1]\n",
    "#src3-->dst3(左上角，左下角，右上角）\n",
    "mat_src=np.float32([[0,0],[0,image_height-1],[image_weight-1,0]])\n",
    "mat_dst=np.float32([[50,50],[300,image_height-200],[image_weight-300,100]])\n",
    "mat_Affine=cv2.getAffineTransform(mat_src,mat_dst)\n",
    "dst=cv2.warpAffine(img,mat_Affine,(image_height,image_weight))\n",
    "cv2.imshow('image_dst',dst)\n",
    "cv2.waitKey(0)"
   ]
  },
  {
   "cell_type": "code",
   "execution_count": null,
   "metadata": {},
   "outputs": [],
   "source": []
  }
 ],
 "metadata": {
  "kernelspec": {
   "display_name": "Python 3",
   "language": "python",
   "name": "python3"
  },
  "language_info": {
   "codemirror_mode": {
    "name": "ipython",
    "version": 3
   },
   "file_extension": ".py",
   "mimetype": "text/x-python",
   "name": "python",
   "nbconvert_exporter": "python",
   "pygments_lexer": "ipython3",
   "version": "3.8.8"
  }
 },
 "nbformat": 4,
 "nbformat_minor": 1
}