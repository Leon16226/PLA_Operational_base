{
 "cells": [
  {
   "cell_type": "markdown",
   "metadata": {
    "collapsed": true
   },
   "source": [
    "# 学习率调整"
   ]
  },
  {
   "cell_type": "markdown",
   "metadata": {},
   "source": [
    "两个问题：1.优化器选择 2.学习率策略 lr_scheduler\n",
    "计算机视觉中优先使用SGD with Momentum\n",
    "\n",
    "策略常有 linear | step | plateau | cosine\n",
    "\n",
    "怎么选择lr_scheduler?\n",
    "如果不是专门研究lr_scheduler，就用顶会paper中流行的就行\n",
    "计算机视觉一般是：1. pipcewise-constant scheduler 2. cosine annealing + warm restarts"
   ]
  },
  {
   "cell_type": "markdown",
   "metadata": {},
   "source": [
    "## 1. 自定义"
   ]
  },
  {
   "cell_type": "code",
   "execution_count": null,
   "metadata": {},
   "outputs": [],
   "source": [
    "def adjust_learing_rate(epoch, opt):\n",
    "    lr = opt.lr * (0.1 ** (epoch // opt.step))\n",
    "    return lr\n",
    "# 定义一个优化器\n",
    "optimizer = optim.SGD(model.parameters(), lr=opt.lr, momentum=opt.momentum, weight_decay=opt.weight_decay)\n",
    "for parm_group in optimizer.param_groups:\n",
    "    param_group[\"lr\"] = lr"
   ]
  },
  {
   "cell_type": "markdown",
   "metadata": {},
   "source": [
    "## 2.用接口"
   ]
  },
  {
   "cell_type": "code",
   "execution_count": null,
   "metadata": {},
   "outputs": [],
   "source": [
    "from torch.optim import lr_scheduler\n",
    "def get_scheduler(optimizer, opt):\n",
    "    scheduler = lr_scheduler.StepLR(optimizer, step_size=opt.lr_decay_iters,gamma=0.01)"
   ]
  },
  {
   "cell_type": "markdown",
   "metadata": {},
   "source": [
    "先optimizer.step()\n",
    "再scheduler.step()"
   ]
  },
  {
   "cell_type": "code",
   "execution_count": null,
   "metadata": {},
   "outputs": [],
   "source": []
  }
 ],
 "metadata": {
  "kernelspec": {
   "display_name": "Python 3",
   "language": "python",
   "name": "python3"
  },
  "language_info": {
   "codemirror_mode": {
    "name": "ipython",
    "version": 3
   },
   "file_extension": ".py",
   "mimetype": "text/x-python",
   "name": "python",
   "nbconvert_exporter": "python",
   "pygments_lexer": "ipython3",
   "version": "3.8.8"
  }
 },
 "nbformat": 4,
 "nbformat_minor": 1
}